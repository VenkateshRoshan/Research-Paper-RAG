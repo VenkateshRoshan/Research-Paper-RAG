{
 "cells": [
  {
   "cell_type": "code",
   "execution_count": null,
   "metadata": {},
   "outputs": [],
   "source": [
    "from google.cloud import aiplatform\n",
    "import json\n",
    "\n",
    "# Set up your Vertex AI model endpoint\n",
    "endpoint = \"projects/research-paper-rag/locations/us-central1/endpoints/<ID>\"\n",
    "client = aiplatform.gapic.PredictionServiceClient()\n",
    "\n",
    "# Prepare the input data (e.g., image or video frames)\n",
    "input_data = {\n",
    "    'instances': [{'query': 'Give me an idea on Tranformers Deep Learning, which paper would you recommend?'}]\n",
    "}\n",
    "\n",
    "# Send the request and get predictions\n",
    "response = client.predict(endpoint=endpoint, instances=input_data)\n",
    "predictions = response.predictions\n",
    "\n",
    "print(predictions)\n"
   ]
  }
 ],
 "metadata": {
  "kernelspec": {
   "display_name": "venv",
   "language": "python",
   "name": "python3"
  },
  "language_info": {
   "name": "python",
   "version": "3.10.12"
  }
 },
 "nbformat": 4,
 "nbformat_minor": 2
}
